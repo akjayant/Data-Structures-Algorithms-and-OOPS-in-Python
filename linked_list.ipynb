{
 "cells": [
  {
   "cell_type": "markdown",
   "metadata": {
    "deletable": true,
    "editable": true
   },
   "source": [
    "## Linked List"
   ]
  },
  {
   "cell_type": "code",
   "execution_count": 1,
   "metadata": {
    "collapsed": true,
    "deletable": true,
    "editable": true
   },
   "outputs": [],
   "source": [
    "import time"
   ]
  },
  {
   "cell_type": "code",
   "execution_count": 2,
   "metadata": {
    "collapsed": true,
    "deletable": true,
    "editable": true
   },
   "outputs": [],
   "source": [
    "class node:\n",
    "    def __init__(self,data):\n",
    "        self.data = data\n",
    "        self.next = None"
   ]
  },
  {
   "cell_type": "code",
   "execution_count": 7,
   "metadata": {
    "collapsed": false,
    "deletable": true,
    "editable": true
   },
   "outputs": [],
   "source": [
    "class linkedlist\n",
    "    \n",
    "    def __init__(self):\n",
    "        self.head = None\n",
    "        \n",
    "    def insertfront(self,data):\n",
    "        new_front = node(data)\n",
    "        new_front.next = self.head\n",
    "        self.head = new_front\n",
    "    \n",
    "    def insertafter(self,prev_node_position,data):\n",
    "        new_node = node(data)\n",
    "        n = self.head\n",
    "        c=1\n",
    "        while(c != prev_node_position):\n",
    "            n=n.next\n",
    "            c+=1\n",
    "        new_node.next = n.next\n",
    "        n.next = new_node\n",
    "    \n",
    "    def insertend(self,data):\n",
    "        new_node = node(data)\n",
    "        if(self.head == None):\n",
    "            self.head = new_node\n",
    "            new_node.next = None\n",
    "        else:\n",
    "            n = self.head\n",
    "            while(n.next != None):\n",
    "                n = n.next\n",
    "            new_node.next = None\n",
    "            n.next = new_node\n",
    "    \n",
    "    def traverse(self):\n",
    "        n = self.head\n",
    "        while(n!=None):\n",
    "            print(n.data)\n",
    "            n=n.next\n",
    "    \n",
    "    def length(self):\n",
    "        if(self.detect_loop() == False):\n",
    "            n = self.head\n",
    "            c = 0\n",
    "            while(n!=None):\n",
    "                n=n.next\n",
    "                c+=1\n",
    "            return c\n",
    "        else:\n",
    "            cond,sptr,fptr,iteration_loop = self.detect_loop()\n",
    "            j = 0\n",
    "            sptr = self.head\n",
    "            while (sptr != fptr):\n",
    "                sptr=sptr.next\n",
    "                fptr=fptr.next\n",
    "                j+=+1\n",
    "            return (j)+(iteration_loop+1)\n",
    "            \n",
    "\n",
    "    def rec_length(self,head): #finding length recursively\n",
    "        if(head==None):\n",
    "            return 0 \n",
    "        return 1+self.rec_length(head.next)\n",
    "    \n",
    "    def search(self,key):\n",
    "        n=self.head\n",
    "        while(n != None):\n",
    "            if (n.data == key):\n",
    "                return True\n",
    "            else:\n",
    "                n=n.next\n",
    "        return False\n",
    "    \n",
    "    def swap(self,x,y):      #swapping nodes without swapping data\n",
    "        if x==y:\n",
    "            return\n",
    "        if ((self.search(x)==False) | (self.search(y)==False)):\n",
    "            return (\"Elements not in linked list\")\n",
    "        prev_x = None\n",
    "        curr_x = self.head\n",
    "        while(curr_x.data != x):\n",
    "            prev_x = curr_x \n",
    "            curr_x = curr_x.next\n",
    "        prev_y = None\n",
    "        curr_y = self.head\n",
    "        while(curr_y.data != y):\n",
    "            prev_y = curr_y\n",
    "            curr_y = curr_y.next\n",
    "        if((prev_x!= None) & (prev_y != None)):\n",
    "            prev_x.next = curr_y\n",
    "            prev_y.next = curr_x\n",
    "            temp = curr_x.next\n",
    "            curr_x.next = curr_y.next\n",
    "            curr_y.next = temp\n",
    "        if (prev_x == None):\n",
    "            prev_x  = prev_y\n",
    "            prev_y.next = curr_x\n",
    "            self.head = curr_y\n",
    "            t = curr_y.next\n",
    "            curr_y.next = curr_x.next\n",
    "            curr_x.next = t\n",
    "        if (prev_y == None):\n",
    "            prev_y  = prev_x\n",
    "            prev_x.next = curr_y\n",
    "            self.head = curr_x\n",
    "            t = curr_x.next\n",
    "            curr_x.next = curr_y.next\n",
    "            curr_y.next = t\n",
    "            \n",
    "    def middle_element(self):  # Two pointers approach\n",
    "        sptr = self.head\n",
    "        fptr = self.head\n",
    "        if(self.length()%2!=0):\n",
    "            while(fptr.next != None):\n",
    "                fptr=fptr.next\n",
    "                fptr=fptr.next\n",
    "                sptr=sptr.next    \n",
    "            print(sptr.data)\n",
    "        else:\n",
    "            while(fptr != None):\n",
    "                fptr=fptr.next\n",
    "                fptr=fptr.next\n",
    "                sptr=sptr.next    \n",
    "            print(sptr.data)\n",
    "        \n",
    "    def nth_node_from_last(self,n):\n",
    "        c=1\n",
    "        sptr = self.head\n",
    "        fptr = self.head\n",
    "        while(c!=n):\n",
    "            fptr = fptr.next\n",
    "            c+=1\n",
    "        while(fptr.next != None):\n",
    "            fptr = fptr.next\n",
    "            sptr = sptr.next\n",
    "        print(sptr.data)    \n",
    "        \n",
    "#------reverse using recursive approach\n",
    "    def reverseutil(self,curr,prev):\n",
    "        if(curr.next==None):  #reached  the end of linked list\n",
    "            self.head = curr\n",
    "            curr.next = prev\n",
    "            return\n",
    "        temp = curr.next\n",
    "        curr.next = prev\n",
    "        self.reverseutil(temp,curr)\n",
    "    def reverse(self,head1):\n",
    "        if(head1==None):\n",
    "            return\n",
    "        self.reverseutil(head1,None)\n",
    "#------------------------------     \n",
    "    def detect_loop(self):\n",
    "        sptr = self.head\n",
    "        fptr = self.head\n",
    "        iteration = 0\n",
    "        while((sptr.next!=None) & (fptr.next != None)):\n",
    "            if ((fptr.next.next != None)):\n",
    "                iteration+=1\n",
    "                sptr = sptr.next\n",
    "                fptr = fptr.next.next\n",
    "                \n",
    "                if(sptr == fptr):\n",
    "                    c=1\n",
    "                    return True,sptr,fptr,iteration \n",
    "                else:\n",
    "                    c=0\n",
    "            else:\n",
    "                break\n",
    "        if(c==0):\n",
    "            return False\n",
    "   "
   ]
  },
  {
   "cell_type": "code",
   "execution_count": 11,
   "metadata": {
    "collapsed": true,
    "deletable": true,
    "editable": true
   },
   "outputs": [],
   "source": [
    "def make_any_linked_list(a):\n",
    "    l = linkedlist()\n",
    "    for i in range(len(a)):\n",
    "       \n",
    "        l.insertend(a[i])\n",
    "    return l\n",
    "    "
   ]
  },
  {
   "cell_type": "code",
   "execution_count": 185,
   "metadata": {
    "collapsed": false
   },
   "outputs": [],
   "source": [
    "def merge_l(merged,a,b):\n",
    "    if ((a == None) & (b == None)):\n",
    "        return merged.head\n",
    "    \n",
    "    elif (a == None ):\n",
    "        temp = merged.head\n",
    "        while(temp.next!=None):\n",
    "            temp = temp.next\n",
    "        temp.next = b\n",
    "        return merged.head\n",
    "    \n",
    "    elif (b == None):\n",
    "        temp = merged.head\n",
    "        while(temp.next!=None):\n",
    "            temp = temp.next\n",
    "        temp.next = a\n",
    "        return merged.head\n",
    "\n",
    "    else:   \n",
    "        if (a.data < b.data):\n",
    "            merged.insertend(a.data)\n",
    "            return merge_l(merged,a.next,b)\n",
    "        else :\n",
    "            merged.insertend(b.data)\n",
    "            return merge_l(merged,a,b.next)\n",
    "#         return merged.head"
   ]
  },
  {
   "cell_type": "code",
   "execution_count": 186,
   "metadata": {
    "collapsed": false,
    "deletable": true,
    "editable": true
   },
   "outputs": [],
   "source": [
    "l1 = make_any_linked_list([1,2,2.2,6,7,9])\n",
    "l2 = make_any_linked_list([3,4,5,8,98])"
   ]
  },
  {
   "cell_type": "code",
   "execution_count": 187,
   "metadata": {
    "collapsed": false,
    "deletable": true,
    "editable": true
   },
   "outputs": [],
   "source": [
    "merged = linkedlist()\n",
    "merged.head = merge_l(merged,l1.head,l2.head)"
   ]
  },
  {
   "cell_type": "code",
   "execution_count": 188,
   "metadata": {
    "collapsed": false
   },
   "outputs": [
    {
     "name": "stdout",
     "output_type": "stream",
     "text": [
      "1\n",
      "2\n",
      "2.2\n",
      "3\n",
      "4\n",
      "5\n",
      "6\n",
      "7\n",
      "8\n",
      "9\n",
      "98\n"
     ]
    }
   ],
   "source": [
    "merged.traverse()"
   ]
  },
  {
   "cell_type": "code",
   "execution_count": null,
   "metadata": {
    "collapsed": true
   },
   "outputs": [],
   "source": []
  },
  {
   "cell_type": "code",
   "execution_count": null,
   "metadata": {
    "collapsed": true
   },
   "outputs": [],
   "source": []
  },
  {
   "cell_type": "code",
   "execution_count": null,
   "metadata": {
    "collapsed": true
   },
   "outputs": [],
   "source": []
  },
  {
   "cell_type": "code",
   "execution_count": null,
   "metadata": {
    "collapsed": true,
    "deletable": true,
    "editable": true
   },
   "outputs": [],
   "source": [
    "l.head.next.next.next.next.next.next.next.next = l.head.next.next #create loop"
   ]
  },
  {
   "cell_type": "code",
   "execution_count": null,
   "metadata": {
    "collapsed": true
   },
   "outputs": [],
   "source": []
  },
  {
   "cell_type": "code",
   "execution_count": null,
   "metadata": {
    "collapsed": false,
    "deletable": true,
    "editable": true
   },
   "outputs": [],
   "source": [
    "l.detect_loop()"
   ]
  },
  {
   "cell_type": "code",
   "execution_count": null,
   "metadata": {
    "collapsed": false,
    "deletable": true,
    "editable": true
   },
   "outputs": [],
   "source": [
    "l.length()"
   ]
  },
  {
   "cell_type": "code",
   "execution_count": null,
   "metadata": {
    "collapsed": false,
    "deletable": true,
    "editable": true
   },
   "outputs": [],
   "source": [
    "print(l.head)"
   ]
  },
  {
   "cell_type": "code",
   "execution_count": null,
   "metadata": {
    "collapsed": false,
    "deletable": true,
    "editable": true
   },
   "outputs": [],
   "source": [
    "l.reverse(l.head)"
   ]
  },
  {
   "cell_type": "code",
   "execution_count": null,
   "metadata": {
    "collapsed": false,
    "deletable": true,
    "editable": true
   },
   "outputs": [],
   "source": [
    "l.traverse()"
   ]
  },
  {
   "cell_type": "markdown",
   "metadata": {
    "deletable": true,
    "editable": true
   },
   "source": [
    "## Recursive vs Iterative calls for calculating length"
   ]
  },
  {
   "cell_type": "code",
   "execution_count": null,
   "metadata": {
    "collapsed": false,
    "deletable": true,
    "editable": true
   },
   "outputs": [],
   "source": [
    "start = time.time()\n",
    "print(l.length())\n",
    "end = time.time()\n",
    "print(end-start)"
   ]
  },
  {
   "cell_type": "code",
   "execution_count": null,
   "metadata": {
    "collapsed": false,
    "deletable": true,
    "editable": true
   },
   "outputs": [],
   "source": [
    "start = time.time()\n",
    "print(l.rec_length(l.head))\n",
    "end = time.time()\n",
    "print(end-start)"
   ]
  },
  {
   "cell_type": "markdown",
   "metadata": {
    "deletable": true,
    "editable": true
   },
   "source": [
    "#### search"
   ]
  },
  {
   "cell_type": "code",
   "execution_count": null,
   "metadata": {
    "collapsed": false,
    "deletable": true,
    "editable": true
   },
   "outputs": [],
   "source": [
    "l.search(23)"
   ]
  },
  {
   "cell_type": "markdown",
   "metadata": {
    "deletable": true,
    "editable": true
   },
   "source": [
    "### swapping nodes in a linked list without swapping data"
   ]
  },
  {
   "cell_type": "code",
   "execution_count": null,
   "metadata": {
    "collapsed": false,
    "deletable": true,
    "editable": true
   },
   "outputs": [],
   "source": [
    "l.traverse()"
   ]
  },
  {
   "cell_type": "code",
   "execution_count": null,
   "metadata": {
    "collapsed": false,
    "deletable": true,
    "editable": true
   },
   "outputs": [],
   "source": [
    "l.swap(89,24)"
   ]
  },
  {
   "cell_type": "code",
   "execution_count": null,
   "metadata": {
    "collapsed": false,
    "deletable": true,
    "editable": true
   },
   "outputs": [],
   "source": [
    "l.traverse()"
   ]
  },
  {
   "cell_type": "code",
   "execution_count": null,
   "metadata": {
    "collapsed": false,
    "deletable": true,
    "editable": true
   },
   "outputs": [],
   "source": [
    "l.swap(23,46)"
   ]
  },
  {
   "cell_type": "code",
   "execution_count": null,
   "metadata": {
    "collapsed": false,
    "deletable": true,
    "editable": true
   },
   "outputs": [],
   "source": [
    "l.traverse()"
   ]
  },
  {
   "cell_type": "code",
   "execution_count": null,
   "metadata": {
    "collapsed": true,
    "deletable": true,
    "editable": true
   },
   "outputs": [],
   "source": [
    "l.swap(24,72)"
   ]
  },
  {
   "cell_type": "code",
   "execution_count": null,
   "metadata": {
    "collapsed": false,
    "deletable": true,
    "editable": true
   },
   "outputs": [],
   "source": [
    "l.traverse()"
   ]
  },
  {
   "cell_type": "code",
   "execution_count": null,
   "metadata": {
    "collapsed": false,
    "deletable": true,
    "editable": true
   },
   "outputs": [],
   "source": [
    "l.middle_element()"
   ]
  },
  {
   "cell_type": "code",
   "execution_count": null,
   "metadata": {
    "collapsed": false,
    "deletable": true,
    "editable": true
   },
   "outputs": [],
   "source": [
    "l.nth_node_from_last(4)"
   ]
  },
  {
   "cell_type": "code",
   "execution_count": null,
   "metadata": {
    "collapsed": false,
    "deletable": true,
    "editable": true
   },
   "outputs": [],
   "source": [
    "l.length()"
   ]
  },
  {
   "cell_type": "code",
   "execution_count": null,
   "metadata": {
    "collapsed": false,
    "deletable": true,
    "editable": true
   },
   "outputs": [],
   "source": [
    "l.traverse()"
   ]
  },
  {
   "cell_type": "code",
   "execution_count": null,
   "metadata": {
    "collapsed": false,
    "deletable": true,
    "editable": true
   },
   "outputs": [],
   "source": []
  },
  {
   "cell_type": "code",
   "execution_count": null,
   "metadata": {
    "collapsed": false,
    "deletable": true,
    "editable": true
   },
   "outputs": [],
   "source": []
  },
  {
   "cell_type": "code",
   "execution_count": null,
   "metadata": {
    "collapsed": true,
    "deletable": true,
    "editable": true
   },
   "outputs": [],
   "source": []
  }
 ],
 "metadata": {
  "anaconda-cloud": {},
  "kernelspec": {
   "display_name": "Python [conda root]",
   "language": "python",
   "name": "conda-root-py"
  },
  "language_info": {
   "codemirror_mode": {
    "name": "ipython",
    "version": 2
   },
   "file_extension": ".py",
   "mimetype": "text/x-python",
   "name": "python",
   "nbconvert_exporter": "python",
   "pygments_lexer": "ipython2",
   "version": "2.7.12"
  }
 },
 "nbformat": 4,
 "nbformat_minor": 2
}
